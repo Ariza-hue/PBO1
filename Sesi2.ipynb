{
  "nbformat": 4,
  "nbformat_minor": 0,
  "metadata": {
    "colab": {
      "provenance": [],
      "authorship_tag": "ABX9TyMt3Jt+OA9GB/YfcWINk5ZS",
      "include_colab_link": true
    },
    "kernelspec": {
      "name": "python3",
      "display_name": "Python 3"
    },
    "language_info": {
      "name": "python"
    }
  },
  "cells": [
    {
      "cell_type": "markdown",
      "metadata": {
        "id": "view-in-github",
        "colab_type": "text"
      },
      "source": [
        "<a href=\"https://colab.research.google.com/github/Ariza-hue/Tugas-1-PBO/blob/main/Sesi2.ipynb\" target=\"_parent\"><img src=\"https://colab.research.google.com/assets/colab-badge.svg\" alt=\"Open In Colab\"/></a>"
      ]
    },
    {
      "cell_type": "code",
      "execution_count": 1,
      "metadata": {
        "colab": {
          "base_uri": "https://localhost:8080/"
        },
        "id": "ZcK8iHbZB2zq",
        "outputId": "5d6522b7-0bf3-4a3f-811f-e9bb4e648cab"
      },
      "outputs": [
        {
          "output_type": "stream",
          "name": "stdout",
          "text": [
            "Masukkan sebuah bilangan:10\n",
            "10 adalah bilangan genap\n"
          ]
        }
      ],
      "source": [
        "bil = int(input(\"Masukkan sebuah bilangan:\"))\n",
        "\n",
        "# Proses untuk menentukan bilangan tersebut ganjil atau genap\n",
        "# Menggunakan operator modulus\n",
        "if bil % 2 == 1:\n",
        "  print(bil, \"adalah bilangan ganjil\")\n",
        "else:\n",
        "  print(bil, \"adalah bilangan genap\")"
      ]
    },
    {
      "cell_type": "code",
      "source": [
        "hur= input(\"Masukkan sebuah huruf dari kumpulan abjad:\")\n",
        "\n",
        "#Proses menentukan huruf dan menampilkan hasilnya\n",
        "if hur ==\"a\" or hur == \"e\" or \\\n",
        "   hur ==\"i\" or hur == \"o\" or \\\n",
        "   hur ==\"u\":\n",
        "  print(\"Ini adalah vokal.\")\n",
        "elif hur ==\"y\":\n",
        "  print(\"Kadang vokal...kadang konsonan\")\n",
        "else:\n",
        "  print(\"Ini adalah konsonan.\")"
      ],
      "metadata": {
        "colab": {
          "base_uri": "https://localhost:8080/"
        },
        "id": "p4Qhia4CcOd3",
        "outputId": "456185ee-125f-4cd5-b208-bf0ccbb158eb"
      },
      "execution_count": 2,
      "outputs": [
        {
          "output_type": "stream",
          "name": "stdout",
          "text": [
            "Masukkan sebuah huruf dari kumpulan abjad:o\n",
            "Ini adalah vokal.\n"
          ]
        }
      ]
    },
    {
      "cell_type": "code",
      "source": [
        "sisi = int(input(\"Masukkan jumlah sisinya:\"))\n",
        "\n",
        "# Menampilkan nama ukuran geometri tersebut\n",
        "nama = \"\"\n",
        "if sisi == 3:\n",
        "  nama = \"triangle\"\n",
        "elif sisi == 4:\n",
        "  nama = \"quadrilateral\"\n",
        "elif sisi == 5:\n",
        "  nama = \"pentagon\"\n",
        "elif sisi == 6:\n",
        "  nama = \"hexagon\"\n",
        "elif sisi == 7:\n",
        "  nama = \"heptagon\"\n",
        "elif sisi == 8:\n",
        "  nama = \"ocatagon\"\n",
        "elif sisi == 9:\n",
        "  nama = \"nonagon\"\n",
        "elif sisi == 10:\n",
        "  nama = \"decagon\"\n",
        "\n",
        "# Menampilkan pesan kesalahan atau nama dari ruang geometri\n",
        "if nama == \"\":\n",
        "  print(\"Jumlah sisi yang diinput tidak ada dalam database\")\n",
        "else:\n",
        "  print(\"Ini adalah\", nama)"
      ],
      "metadata": {
        "colab": {
          "base_uri": "https://localhost:8080/"
        },
        "id": "ca6SHqUSdjUS",
        "outputId": "d32a3aef-5abb-47c5-aac5-dbe88e43c684"
      },
      "execution_count": 3,
      "outputs": [
        {
          "output_type": "stream",
          "name": "stdout",
          "text": [
            "Masukkan jumlah sisinya:5\n",
            "Ini adalah pentagon\n"
          ]
        }
      ]
    },
    {
      "cell_type": "code",
      "source": [
        "bulan = input(\"masukkan nama bulan:\")\n",
        "tgl = int(input(\"masukkan tanggal dibulan tersebut:\"))\n",
        "\n",
        "# Proses menentukan nama musim\n",
        "if bulan == \"Januari\" or bulan ==\"Februari\":\n",
        "  musim = \"Winter\"\n",
        "elif bulan == \"Maret\":\n",
        "  if tgl < 20:\n",
        "    musim = \"Winter\"\n",
        "  else:\n",
        "    musim = \"Spring\"\n",
        "elif bulan ==\"April\" or bulan == \"Mei\":\n",
        "  musim = \"Spring\"\n",
        "elif bulan == \"Juni\":\n",
        "  if tgl < 21:\n",
        "    musim = \"Spring\"\n",
        "  else:\n",
        "    musim = \"Summer\"\n",
        "elif bulan ==\"Juli\" or bulan == \"Agustus\":\n",
        "  musim = \"Summer\"\n",
        "elif bulan == \"September\":\n",
        "   if tgl < 22:\n",
        "     musim = \"Summer\"\n",
        "   else:\n",
        "     musim = \"Fall\"\n",
        "elif bulan ==\"Oktober\" or bulan == \"November\":\n",
        "  musim = \"Fall\"\n",
        "elif bulan == \"Desember\":\n",
        "    if tgl < 21:\n",
        "      musim = \"Fall\"\n",
        "    else:\n",
        "      musim = \"Winter\"\n",
        "\n",
        "# Tampilkan hasil\n",
        "print(tgl, bulan, \"adalah dalam musim\", musim)"
      ],
      "metadata": {
        "colab": {
          "base_uri": "https://localhost:8080/"
        },
        "id": "R1ibJ7h4dyFb",
        "outputId": "78ab3860-5070-4272-e84c-aa6e80dc6696"
      },
      "execution_count": 4,
      "outputs": [
        {
          "output_type": "stream",
          "name": "stdout",
          "text": [
            "masukkan nama bulan:Oktober\n",
            "masukkan tanggal dibulan tersebut:15\n",
            "15 Oktober adalah dalam musim Fall\n"
          ]
        }
      ]
    }
  ]
}